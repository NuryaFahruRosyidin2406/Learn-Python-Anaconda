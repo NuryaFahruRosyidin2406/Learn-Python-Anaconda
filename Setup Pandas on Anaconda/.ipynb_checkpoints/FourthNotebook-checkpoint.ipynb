{
 "cells": [
  {
   "cell_type": "code",
   "execution_count": 4,
   "id": "39fb5562",
   "metadata": {},
   "outputs": [
    {
     "name": "stdout",
     "output_type": "stream",
     "text": [
      "Requirement already satisfied: pandas in d:\\apllikasi atau software\\python310\\lib\\site-packages (2.2.0)\n",
      "Requirement already satisfied: tzdata>=2022.7 in d:\\apllikasi atau software\\python310\\lib\\site-packages (from pandas) (2023.4)\n",
      "Requirement already satisfied: pytz>=2020.1 in d:\\apllikasi atau software\\python310\\lib\\site-packages (from pandas) (2024.1)\n",
      "Requirement already satisfied: numpy<2,>=1.22.4 in d:\\apllikasi atau software\\python310\\lib\\site-packages (from pandas) (1.26.4)\n",
      "Requirement already satisfied: python-dateutil>=2.8.2 in d:\\apllikasi atau software\\python310\\lib\\site-packages (from pandas) (2.8.2)\n",
      "Requirement already satisfied: six>=1.5 in d:\\apllikasi atau software\\python310\\lib\\site-packages (from python-dateutil>=2.8.2->pandas) (1.16.0)\n"
     ]
    },
    {
     "name": "stderr",
     "output_type": "stream",
     "text": [
      "\n",
      "[notice] A new release of pip is available: 23.0.1 -> 24.0\n",
      "[notice] To update, run: python.exe -m pip install --upgrade pip\n"
     ]
    }
   ],
   "source": [
    "!pip install pandas"
   ]
  },
  {
   "cell_type": "code",
   "execution_count": 5,
   "id": "3cf0b93d",
   "metadata": {},
   "outputs": [],
   "source": [
    "import pandas as pd"
   ]
  },
  {
   "cell_type": "code",
   "execution_count": 6,
   "id": "88e5646c",
   "metadata": {},
   "outputs": [
    {
     "name": "stdout",
     "output_type": "stream",
     "text": [
      "Student Records\n",
      "\n",
      "   student  rank  marks\n",
      "0    Amit     1     95\n",
      "1    John     4     70\n",
      "2   Jacob     3     80\n",
      "3   David     5     60\n",
      "4   Steve     2     90\n"
     ]
    }
   ],
   "source": [
    "# dataset\n",
    "data = {\n",
    "    'student': [\"Amit\", \"John\", \"Jacob\", \"David\", \"Steve\"],\n",
    "    'rank': [1, 4, 3, 5, 2],\n",
    "    'marks': [95, 70, 80, 60, 90]\n",
    "}\n",
    "\n",
    "res = pd.DataFrame(data)\n",
    "print(\"Student Records\\n\\n\", res)"
   ]
  },
  {
   "cell_type": "code",
   "execution_count": null,
   "id": "5dfd5395",
   "metadata": {},
   "outputs": [],
   "source": []
  }
 ],
 "metadata": {
  "kernelspec": {
   "display_name": "Python 3 (ipykernel)",
   "language": "python",
   "name": "python3"
  },
  "language_info": {
   "codemirror_mode": {
    "name": "ipython",
    "version": 3
   },
   "file_extension": ".py",
   "mimetype": "text/x-python",
   "name": "python",
   "nbconvert_exporter": "python",
   "pygments_lexer": "ipython3",
   "version": "3.11.3"
  }
 },
 "nbformat": 4,
 "nbformat_minor": 5
}
