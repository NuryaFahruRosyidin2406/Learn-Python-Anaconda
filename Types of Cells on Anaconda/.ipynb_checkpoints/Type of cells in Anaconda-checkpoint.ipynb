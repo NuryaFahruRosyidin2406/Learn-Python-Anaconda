{
 "cells": [
  {
   "cell_type": "markdown",
   "id": "a4308b33",
   "metadata": {},
   "source": [
    "Bentuk Penulisan di Markdown\n",
    "1. Untuk heading ada 6 type penulisan seperti berikut:\n",
    "# Heading 1\n",
    "## Heading 2\n",
    "### Heading 3\n",
    "#### Heading 4\n",
    "##### Heading 5\n",
    "###### Heading 6\n",
    "\n",
    "2. Untuk Formatting Text dan Markdown systax nya sebagai berikut:\n",
    "**Bold Text** atau __Bold Text__\n",
    "*Italic Text* atau _Italic Text_\n",
    "~~Strikethrough Text~~ ~\n",
    "`Inline code`\n",
    "Links bisa menggunakan [Links](https://www.google.co.id/)"
   ]
  },
  {
   "cell_type": "code",
   "execution_count": null,
   "id": "ecc3abe1",
   "metadata": {},
   "outputs": [],
   "source": []
  }
 ],
 "metadata": {
  "kernelspec": {
   "display_name": "Python 3 (ipykernel)",
   "language": "python",
   "name": "python3"
  },
  "language_info": {
   "codemirror_mode": {
    "name": "ipython",
    "version": 3
   },
   "file_extension": ".py",
   "mimetype": "text/x-python",
   "name": "python",
   "nbconvert_exporter": "python",
   "pygments_lexer": "ipython3",
   "version": "3.11.3"
  }
 },
 "nbformat": 4,
 "nbformat_minor": 5
}
