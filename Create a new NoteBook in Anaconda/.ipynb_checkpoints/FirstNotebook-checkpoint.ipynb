{
 "cells": [
  {
   "cell_type": "code",
   "execution_count": 6,
   "id": "b7b767d2",
   "metadata": {},
   "outputs": [
    {
     "data": {
      "text/plain": [
       "'D:\\\\GitHub\\\\Learn-Python-Anaconda\\\\Create_a_new_NoteBook_in_Anaconda'"
      ]
     },
     "execution_count": 6,
     "metadata": {},
     "output_type": "execute_result"
    }
   ],
   "source": [
    "pwd"
   ]
  },
  {
   "cell_type": "markdown",
   "id": "1aad78ae",
   "metadata": {},
   "source": [
    "# Print Text"
   ]
  },
  {
   "cell_type": "code",
   "execution_count": 2,
   "id": "8fdb52ab",
   "metadata": {},
   "outputs": [
    {
     "name": "stdout",
     "output_type": "stream",
     "text": [
      "Nurya FR\n"
     ]
    }
   ],
   "source": [
    "print(\"Nurya FR\")"
   ]
  },
  {
   "cell_type": "markdown",
   "id": "ce73b564",
   "metadata": {},
   "source": [
    "# Printing Numbers"
   ]
  },
  {
   "cell_type": "code",
   "execution_count": null,
   "id": "93eb0ce1",
   "metadata": {},
   "outputs": [],
   "source": [
    "# tekan Shift Enter untuk menjalankan codingannya"
   ]
  },
  {
   "cell_type": "code",
   "execution_count": 3,
   "id": "85b6fe0a",
   "metadata": {},
   "outputs": [
    {
     "name": "stdout",
     "output_type": "stream",
     "text": [
      "6\n"
     ]
    }
   ],
   "source": [
    "print(3+3)"
   ]
  },
  {
   "cell_type": "markdown",
   "id": "a093b3cb",
   "metadata": {},
   "source": [
    "# Calculations"
   ]
  },
  {
   "cell_type": "code",
   "execution_count": 4,
   "id": "a92be46c",
   "metadata": {},
   "outputs": [
    {
     "name": "stdout",
     "output_type": "stream",
     "text": [
      "36\n"
     ]
    }
   ],
   "source": [
    "print(2*2*9)"
   ]
  },
  {
   "cell_type": "code",
   "execution_count": null,
   "id": "b462da1e",
   "metadata": {},
   "outputs": [],
   "source": []
  }
 ],
 "metadata": {
  "kernelspec": {
   "display_name": "Python 3 (ipykernel)",
   "language": "python",
   "name": "python3"
  },
  "language_info": {
   "codemirror_mode": {
    "name": "ipython",
    "version": 3
   },
   "file_extension": ".py",
   "mimetype": "text/x-python",
   "name": "python",
   "nbconvert_exporter": "python",
   "pygments_lexer": "ipython3",
   "version": "3.11.3"
  }
 },
 "nbformat": 4,
 "nbformat_minor": 5
}
