{
 "cells": [
  {
   "cell_type": "markdown",
   "id": "ac254fd9",
   "metadata": {},
   "source": [
    "# Python Program"
   ]
  },
  {
   "cell_type": "markdown",
   "id": "5a157a6f",
   "metadata": {},
   "source": [
    "## Displaying Caculations"
   ]
  },
  {
   "cell_type": "code",
   "execution_count": 6,
   "id": "e7bb0b41",
   "metadata": {},
   "outputs": [
    {
     "name": "stdout",
     "output_type": "stream",
     "text": [
      "10\n"
     ]
    }
   ],
   "source": [
    "print(3+3+4)"
   ]
  },
  {
   "cell_type": "markdown",
   "id": "cc08b437",
   "metadata": {},
   "source": [
    "## Displaying Text"
   ]
  },
  {
   "cell_type": "code",
   "execution_count": 7,
   "id": "fbbfbdcc",
   "metadata": {},
   "outputs": [
    {
     "name": "stdout",
     "output_type": "stream",
     "text": [
      "Nurya.....\n"
     ]
    }
   ],
   "source": [
    "print(\"Nurya.....\")"
   ]
  },
  {
   "cell_type": "markdown",
   "id": "ab4a9385",
   "metadata": {},
   "source": [
    "## Displaying Numbers"
   ]
  },
  {
   "cell_type": "code",
   "execution_count": 8,
   "id": "da70fd51",
   "metadata": {},
   "outputs": [
    {
     "name": "stdout",
     "output_type": "stream",
     "text": [
      "5\n"
     ]
    }
   ],
   "source": [
    "print(5)"
   ]
  },
  {
   "cell_type": "code",
   "execution_count": null,
   "id": "815d3837",
   "metadata": {},
   "outputs": [],
   "source": []
  }
 ],
 "metadata": {
  "kernelspec": {
   "display_name": "Python 3 (ipykernel)",
   "language": "python",
   "name": "python3"
  },
  "language_info": {
   "codemirror_mode": {
    "name": "ipython",
    "version": 3
   },
   "file_extension": ".py",
   "mimetype": "text/x-python",
   "name": "python",
   "nbconvert_exporter": "python",
   "pygments_lexer": "ipython3",
   "version": "3.11.3"
  }
 },
 "nbformat": 4,
 "nbformat_minor": 5
}
