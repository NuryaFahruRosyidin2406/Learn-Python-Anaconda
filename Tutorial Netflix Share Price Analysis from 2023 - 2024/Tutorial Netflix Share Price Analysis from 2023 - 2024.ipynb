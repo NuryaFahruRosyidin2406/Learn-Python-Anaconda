{
 "cells": [
  {
   "cell_type": "markdown",
   "id": "673be716",
   "metadata": {},
   "source": [
    "# Netflix Share Price Analysis from 2023 - 2024"
   ]
  },
  {
   "cell_type": "markdown",
   "id": "2a6350fd",
   "metadata": {},
   "source": [
    "## 1. An Introduction to Dataset"
   ]
  },
  {
   "cell_type": "markdown",
   "id": "768314e1",
   "metadata": {},
   "source": []
  }
 ],
 "metadata": {
  "kernelspec": {
   "display_name": "Python 3 (ipykernel)",
   "language": "python",
   "name": "python3"
  },
  "language_info": {
   "codemirror_mode": {
    "name": "ipython",
    "version": 3
   },
   "file_extension": ".py",
   "mimetype": "text/x-python",
   "name": "python",
   "nbconvert_exporter": "python",
   "pygments_lexer": "ipython3",
   "version": "3.11.3"
  }
 },
 "nbformat": 4,
 "nbformat_minor": 5
}
